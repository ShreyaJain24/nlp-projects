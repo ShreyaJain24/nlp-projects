{
 "cells": [
  {
   "cell_type": "code",
   "execution_count": 1,
   "metadata": {},
   "outputs": [
    {
     "name": "stderr",
     "output_type": "stream",
     "text": [
      "Using TensorFlow backend.\n"
     ]
    }
   ],
   "source": [
    "# keras module for building LSTM \n",
    "from keras.preprocessing.sequence import pad_sequences\n",
    "from keras.layers import Embedding, LSTM, Dense\n",
    "from keras.preprocessing.text import Tokenizer\n",
    "from keras.callbacks import EarlyStopping\n",
    "from keras.models import Sequential\n",
    "import keras.utils as ku \n",
    "\n",
    "# set seeds for reproducability\n",
    "from tensorflow import set_random_seed\n",
    "from numpy.random import seed\n",
    "set_random_seed(2)\n",
    "seed(1)\n",
    "\n",
    "import pandas as pd\n",
    "import numpy as np\n",
    "import string, os \n",
    "\n",
    "import warnings\n",
    "warnings.filterwarnings(\"ignore\")\n",
    "warnings.simplefilter(action='ignore', category=FutureWarning)"
   ]
  },
  {
   "cell_type": "code",
   "execution_count": 2,
   "metadata": {},
   "outputs": [
    {
     "data": {
      "text/plain": [
       "['Rhythm of the Streets: ‘We’re Warrior Women, and Yes, We Can Play’',\n",
       " 'As Deficit Grows, Congress Keeps Spending',\n",
       " 'Lesson in Select Bus Service',\n",
       " 'Here’s the Real State of the Union',\n",
       " 'Good Riddance to Chief Wahoo',\n",
       " 'In South Africa, Facing ‘Day Zero’ With No Water',\n",
       " 'How Trump’s Critics Should Respond',\n",
       " 'Unknown',\n",
       " 'A Republican Stalwart Sets Out on a Quest to Unseat Cuomo as Governor',\n",
       " 'Unknown']"
      ]
     },
     "execution_count": 2,
     "metadata": {},
     "output_type": "execute_result"
    }
   ],
   "source": [
    "curr_dir = '/mnt/data/shreya/textgeneration/data_new_york_times/'\n",
    "all_headlines = []\n",
    "for filename in os.listdir(curr_dir):\n",
    "    if 'Articles' in filename:\n",
    "        article_df = pd.read_csv(curr_dir + filename)\n",
    "        all_headlines.extend(list(article_df.headline.values))\n",
    "        break\n",
    "\n",
    "all_headlines[:10]"
   ]
  },
  {
   "cell_type": "code",
   "execution_count": 3,
   "metadata": {},
   "outputs": [
    {
     "data": {
      "text/plain": [
       "['rhythm of the streets were warrior women and yes we can play',\n",
       " 'as deficit grows congress keeps spending',\n",
       " 'lesson in select bus service',\n",
       " 'heres the real state of the union',\n",
       " 'good riddance to chief wahoo',\n",
       " 'in south africa facing day zero with no water',\n",
       " 'how trumps critics should respond',\n",
       " 'unknown',\n",
       " 'a republican stalwart sets out on a quest to unseat cuomo as governor',\n",
       " 'unknown']"
      ]
     },
     "execution_count": 3,
     "metadata": {},
     "output_type": "execute_result"
    }
   ],
   "source": [
    "def clean_text(txt):\n",
    "    txt = \"\".join(v for v in txt if v not in string.punctuation).lower()\n",
    "    txt = txt.encode(\"utf8\").decode(\"ascii\",'ignore')\n",
    "    return txt \n",
    "\n",
    "corpus = [clean_text(x) for x in all_headlines]\n",
    "corpus[:10]"
   ]
  },
  {
   "cell_type": "code",
   "execution_count": 4,
   "metadata": {},
   "outputs": [
    {
     "data": {
      "text/plain": [
       "[[754, 4],\n",
       " [754, 4, 1],\n",
       " [754, 4, 1, 229],\n",
       " [754, 4, 1, 229, 162],\n",
       " [754, 4, 1, 229, 162, 755],\n",
       " [754, 4, 1, 229, 162, 755, 85],\n",
       " [754, 4, 1, 229, 162, 755, 85, 7],\n",
       " [754, 4, 1, 229, 162, 755, 85, 7, 163],\n",
       " [754, 4, 1, 229, 162, 755, 85, 7, 163, 39],\n",
       " [754, 4, 1, 229, 162, 755, 85, 7, 163, 39, 49]]"
      ]
     },
     "execution_count": 4,
     "metadata": {},
     "output_type": "execute_result"
    }
   ],
   "source": [
    "tokenizer = Tokenizer()\n",
    "\n",
    "def get_sequence_of_tokens(corpus):\n",
    "    ## tokenization\n",
    "    tokenizer.fit_on_texts(corpus)\n",
    "    total_words = len(tokenizer.word_index) + 1\n",
    "    \n",
    "    ## convert data to sequence of tokens \n",
    "    input_sequences = []\n",
    "    for line in corpus:\n",
    "        token_list = tokenizer.texts_to_sequences([line])[0]\n",
    "        for i in range(1, len(token_list)):\n",
    "            n_gram_sequence = token_list[:i+1]\n",
    "            input_sequences.append(n_gram_sequence)\n",
    "    return input_sequences, total_words\n",
    "\n",
    "inp_sequences, total_words = get_sequence_of_tokens(corpus)\n",
    "inp_sequences[:10]"
   ]
  },
  {
   "cell_type": "code",
   "execution_count": 12,
   "metadata": {},
   "outputs": [
    {
     "data": {
      "text/plain": [
       "905"
      ]
     },
     "execution_count": 12,
     "metadata": {},
     "output_type": "execute_result"
    }
   ],
   "source": [
    "total_words\n",
    "len (corpus)"
   ]
  },
  {
   "cell_type": "code",
   "execution_count": 5,
   "metadata": {},
   "outputs": [],
   "source": [
    "def generate_padded_sequences(input_sequences):\n",
    "    max_sequence_len = max([len(x) for x in input_sequences])\n",
    "    input_sequences = np.array(pad_sequences(input_sequences, maxlen=max_sequence_len, padding='pre'))\n",
    "    \n",
    "    predictors, label = input_sequences[:,:-1],input_sequences[:,-1]\n",
    "    label = ku.to_categorical(label, num_classes=total_words)\n",
    "    return predictors, label, max_sequence_len\n",
    "\n",
    "predictors, label, max_sequence_len = generate_padded_sequences(inp_sequences)\n"
   ]
  },
  {
   "cell_type": "code",
   "execution_count": 6,
   "metadata": {},
   "outputs": [
    {
     "name": "stdout",
     "output_type": "stream",
     "text": [
      "_________________________________________________________________\n",
      "Layer (type)                 Output Shape              Param #   \n",
      "=================================================================\n",
      "embedding_1 (Embedding)      (None, 16, 10)            25130     \n",
      "_________________________________________________________________\n",
      "lstm_1 (LSTM)                (None, 100)               44400     \n",
      "_________________________________________________________________\n",
      "dense_1 (Dense)              (None, 2513)              253813    \n",
      "=================================================================\n",
      "Total params: 323,343\n",
      "Trainable params: 323,343\n",
      "Non-trainable params: 0\n",
      "_________________________________________________________________\n"
     ]
    }
   ],
   "source": [
    "def create_model(max_sequence_len, total_words):\n",
    "    input_len = max_sequence_len - 1\n",
    "    model = Sequential()\n",
    "    \n",
    "    # Add Input Embedding Layer\n",
    "    model.add(Embedding(total_words, 10, input_length=input_len))\n",
    "    \n",
    "    # Add Hidden Layer 1 - LSTM Layer\n",
    "    model.add(LSTM(100))\n",
    "    \n",
    "    # Add Output Layer\n",
    "    model.add(Dense(total_words, activation='softmax'))\n",
    "\n",
    "    model.compile(loss='categorical_crossentropy', optimizer='adam')\n",
    "    \n",
    "    return model\n",
    "\n",
    "model = create_model(max_sequence_len, total_words)\n",
    "model.summary()"
   ]
  },
  {
   "cell_type": "code",
   "execution_count": 7,
   "metadata": {},
   "outputs": [
    {
     "name": "stdout",
     "output_type": "stream",
     "text": [
      "Epoch 1/100\n",
      " - 7s - loss: 7.4745\n",
      "Epoch 2/100\n",
      " - 5s - loss: 6.9596\n",
      "Epoch 3/100\n",
      " - 5s - loss: 6.8357\n",
      "Epoch 4/100\n",
      " - 5s - loss: 6.7396\n",
      "Epoch 5/100\n",
      " - 5s - loss: 6.6327\n",
      "Epoch 6/100\n",
      " - 5s - loss: 6.5019\n",
      "Epoch 7/100\n",
      " - 5s - loss: 6.3774\n",
      "Epoch 8/100\n",
      " - 5s - loss: 6.2492\n",
      "Epoch 9/100\n",
      " - 5s - loss: 6.1180\n",
      "Epoch 10/100\n",
      " - 5s - loss: 5.9959\n",
      "Epoch 11/100\n",
      " - 5s - loss: 5.8791\n",
      "Epoch 12/100\n",
      " - 5s - loss: 5.7673\n",
      "Epoch 13/100\n",
      " - 5s - loss: 5.6643\n",
      "Epoch 14/100\n",
      " - 5s - loss: 5.5663\n",
      "Epoch 15/100\n",
      " - 5s - loss: 5.4747\n",
      "Epoch 16/100\n",
      " - 5s - loss: 5.3862\n",
      "Epoch 17/100\n",
      " - 5s - loss: 5.3005\n",
      "Epoch 18/100\n",
      " - 5s - loss: 5.2173\n",
      "Epoch 19/100\n",
      " - 5s - loss: 5.1355\n",
      "Epoch 20/100\n",
      " - 5s - loss: 5.0546\n",
      "Epoch 21/100\n",
      " - 5s - loss: 4.9747\n",
      "Epoch 22/100\n",
      " - 5s - loss: 4.8968\n",
      "Epoch 23/100\n",
      " - 5s - loss: 4.8175\n",
      "Epoch 24/100\n",
      " - 5s - loss: 4.7423\n",
      "Epoch 25/100\n",
      " - 5s - loss: 4.6694\n",
      "Epoch 26/100\n",
      " - 5s - loss: 4.5917\n",
      "Epoch 27/100\n",
      " - 5s - loss: 4.5168\n",
      "Epoch 28/100\n",
      " - 5s - loss: 4.4438\n",
      "Epoch 29/100\n",
      " - 5s - loss: 4.3740\n",
      "Epoch 30/100\n",
      " - 5s - loss: 4.2983\n",
      "Epoch 31/100\n",
      " - 5s - loss: 4.2276\n",
      "Epoch 32/100\n",
      " - 5s - loss: 4.1580\n",
      "Epoch 33/100\n",
      " - 5s - loss: 4.0866\n",
      "Epoch 34/100\n",
      " - 5s - loss: 4.0199\n",
      "Epoch 35/100\n",
      " - 5s - loss: 3.9468\n",
      "Epoch 36/100\n",
      " - 5s - loss: 3.8841\n",
      "Epoch 37/100\n",
      " - 5s - loss: 3.8147\n",
      "Epoch 38/100\n",
      " - 5s - loss: 3.7521\n",
      "Epoch 39/100\n",
      " - 5s - loss: 3.6902\n",
      "Epoch 40/100\n",
      " - 5s - loss: 3.6266\n",
      "Epoch 41/100\n",
      " - 5s - loss: 3.5645\n",
      "Epoch 42/100\n",
      " - 5s - loss: 3.5041\n",
      "Epoch 43/100\n",
      " - 5s - loss: 3.4448\n",
      "Epoch 44/100\n",
      " - 5s - loss: 3.3875\n",
      "Epoch 45/100\n",
      " - 5s - loss: 3.3303\n",
      "Epoch 46/100\n",
      " - 5s - loss: 3.2784\n",
      "Epoch 47/100\n",
      " - 5s - loss: 3.2173\n",
      "Epoch 48/100\n",
      " - 5s - loss: 3.1680\n",
      "Epoch 49/100\n",
      " - 5s - loss: 3.1177\n",
      "Epoch 50/100\n",
      " - 5s - loss: 3.0673\n",
      "Epoch 51/100\n",
      " - 5s - loss: 3.0149\n",
      "Epoch 52/100\n",
      " - 5s - loss: 2.9690\n",
      "Epoch 53/100\n",
      " - 5s - loss: 2.9176\n",
      "Epoch 54/100\n",
      " - 5s - loss: 2.8724\n",
      "Epoch 55/100\n",
      " - 5s - loss: 2.8257\n",
      "Epoch 56/100\n",
      " - 5s - loss: 2.7823\n",
      "Epoch 57/100\n",
      " - 5s - loss: 2.7401\n",
      "Epoch 58/100\n",
      " - 5s - loss: 2.6947\n",
      "Epoch 59/100\n",
      " - 5s - loss: 2.6530\n",
      "Epoch 60/100\n",
      " - 5s - loss: 2.6125\n",
      "Epoch 61/100\n",
      " - 5s - loss: 2.5701\n",
      "Epoch 62/100\n",
      " - 5s - loss: 2.5304\n",
      "Epoch 63/100\n",
      " - 5s - loss: 2.4934\n",
      "Epoch 64/100\n",
      " - 5s - loss: 2.4515\n",
      "Epoch 65/100\n",
      " - 5s - loss: 2.4156\n",
      "Epoch 66/100\n",
      " - 5s - loss: 2.3810\n",
      "Epoch 67/100\n",
      " - 5s - loss: 2.3448\n",
      "Epoch 68/100\n",
      " - 5s - loss: 2.3045\n",
      "Epoch 69/100\n",
      " - 5s - loss: 2.2722\n",
      "Epoch 70/100\n",
      " - 5s - loss: 2.2393\n",
      "Epoch 71/100\n",
      " - 5s - loss: 2.2089\n",
      "Epoch 72/100\n",
      " - 5s - loss: 2.1720\n",
      "Epoch 73/100\n",
      " - 5s - loss: 2.1409\n",
      "Epoch 74/100\n",
      " - 5s - loss: 2.1135\n",
      "Epoch 75/100\n",
      " - 5s - loss: 2.0812\n",
      "Epoch 76/100\n",
      " - 5s - loss: 2.0436\n",
      "Epoch 77/100\n",
      " - 5s - loss: 2.0144\n",
      "Epoch 78/100\n",
      " - 5s - loss: 1.9824\n",
      "Epoch 79/100\n",
      " - 5s - loss: 1.9540\n",
      "Epoch 80/100\n",
      " - 5s - loss: 1.9304\n",
      "Epoch 81/100\n",
      " - 5s - loss: 1.9015\n",
      "Epoch 82/100\n",
      " - 5s - loss: 1.8679\n",
      "Epoch 83/100\n",
      " - 5s - loss: 1.8391\n",
      "Epoch 84/100\n",
      " - 5s - loss: 1.8143\n",
      "Epoch 85/100\n",
      " - 5s - loss: 1.7859\n",
      "Epoch 86/100\n",
      " - 5s - loss: 1.7716\n",
      "Epoch 87/100\n",
      " - 5s - loss: 1.7364\n",
      "Epoch 88/100\n",
      " - 5s - loss: 1.7116\n",
      "Epoch 89/100\n",
      " - 5s - loss: 1.6932\n",
      "Epoch 90/100\n",
      " - 5s - loss: 1.6641\n",
      "Epoch 91/100\n",
      " - 5s - loss: 1.6365\n",
      "Epoch 92/100\n",
      " - 5s - loss: 1.6122\n",
      "Epoch 93/100\n",
      " - 5s - loss: 1.5906\n",
      "Epoch 94/100\n",
      " - 5s - loss: 1.5637\n",
      "Epoch 95/100\n",
      " - 5s - loss: 1.5501\n",
      "Epoch 96/100\n",
      " - 5s - loss: 1.5326\n",
      "Epoch 97/100\n",
      " - 5s - loss: 1.4972\n",
      "Epoch 98/100\n",
      " - 5s - loss: 1.4719\n",
      "Epoch 99/100\n",
      " - 5s - loss: 1.4609\n",
      "Epoch 100/100\n",
      " - 5s - loss: 1.4333\n"
     ]
    },
    {
     "data": {
      "text/plain": [
       "<keras.callbacks.History at 0x7feba2eb3fd0>"
      ]
     },
     "execution_count": 7,
     "metadata": {},
     "output_type": "execute_result"
    }
   ],
   "source": [
    "model.fit(predictors, label, epochs=100, verbose=2)\n"
   ]
  },
  {
   "cell_type": "code",
   "execution_count": 13,
   "metadata": {},
   "outputs": [],
   "source": [
    "def generate_text(seed_text, next_words, model, max_sequence_len):\n",
    "    for _ in range(next_words):\n",
    "        token_list = tokenizer.texts_to_sequences([seed_text])[0]\n",
    "        token_list = pad_sequences([token_list], maxlen=max_sequence_len-1, padding='pre')\n",
    "        predicted = model.predict_classes(token_list, verbose=0)\n",
    "        \n",
    "        output_word = \"\"\n",
    "        for word,index in tokenizer.word_index.items():\n",
    "            if index == predicted:\n",
    "                output_word = word\n",
    "                break\n",
    "        seed_text += \" \"+output_word\n",
    "    return seed_text.title()\n"
   ]
  },
  {
   "cell_type": "code",
   "execution_count": 16,
   "metadata": {},
   "outputs": [
    {
     "name": "stdout",
     "output_type": "stream",
     "text": [
      "United States Awards Stages Into Soapboxes For\n",
      "Preident Trump You The Shutdown And\n",
      "Donald Trump Scolded But Police Levels\n",
      "India And China Washington You Is The\n",
      "New York Is Next On The\n",
      "Science And Technology Hope To Cash Interview On\n",
      "Corruption  The New Teaching\n"
     ]
    }
   ],
   "source": [
    "print (generate_text(\"united states\", 5, model, max_sequence_len))\n",
    "print (generate_text(\"preident trump\", 4, model, max_sequence_len))\n",
    "print (generate_text(\"donald trump\", 4, model, max_sequence_len))\n",
    "print (generate_text(\"india and china\", 4, model, max_sequence_len))\n",
    "print (generate_text(\"new york\", 4, model, max_sequence_len))\n",
    "print (generate_text(\"science and technology\", 5, model, max_sequence_len))\n",
    "print (generate_text(\"Corruption \", 3, model, max_sequence_len))"
   ]
  },
  {
   "cell_type": "code",
   "execution_count": null,
   "metadata": {},
   "outputs": [],
   "source": []
  }
 ],
 "metadata": {
  "kernelspec": {
   "display_name": "Environment (conda_shreya_tensorflow_p36)",
   "language": "python",
   "name": "conda_shreya_tensorflow_p36"
  },
  "language_info": {
   "codemirror_mode": {
    "name": "ipython",
    "version": 3
   },
   "file_extension": ".py",
   "mimetype": "text/x-python",
   "name": "python",
   "nbconvert_exporter": "python",
   "pygments_lexer": "ipython3",
   "version": "3.6.6"
  }
 },
 "nbformat": 4,
 "nbformat_minor": 2
}
